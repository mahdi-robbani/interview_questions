{
  "nbformat": 4,
  "nbformat_minor": 0,
  "metadata": {
    "colab": {
      "name": "Top 50 Interview Questions.ipynb",
      "provenance": [],
      "collapsed_sections": [],
      "authorship_tag": "ABX9TyOvfaOf8FDK9fz/PYV0UmDQ",
      "include_colab_link": true
    },
    "kernelspec": {
      "name": "python3",
      "display_name": "Python 3"
    },
    "language_info": {
      "name": "python"
    }
  },
  "cells": [
    {
      "cell_type": "markdown",
      "metadata": {
        "id": "view-in-github",
        "colab_type": "text"
      },
      "source": [
        "<a href=\"https://colab.research.google.com/github/mahdi-robbani/interview_questions/blob/main/Top_50_Interview_Questions.ipynb\" target=\"_parent\"><img src=\"https://colab.research.google.com/assets/colab-badge.svg\" alt=\"Open In Colab\"/></a>"
      ]
    },
    {
      "cell_type": "markdown",
      "metadata": {
        "id": "g28usWb6XSqo"
      },
      "source": [
        "### Array Questions"
      ]
    },
    {
      "cell_type": "code",
      "metadata": {
        "colab": {
          "base_uri": "https://localhost:8080/"
        },
        "id": "EvHor4Q_XL-k",
        "outputId": "fe7427f2-6073-469b-cdfc-7ceb4f8cbc1f"
      },
      "source": [
        "\"\"\"1. How do you find the missing number in a given integer array of 1 to 100\"\"\"\n",
        "arr = list(range(100))\n",
        "\n",
        "# If one missing number, you can use the arithmetic sum\n",
        "\n",
        "def get_missing_num(arr: list) -> int:\n",
        "  return (100*(100+1)/2) - sum(arr)\n",
        "\n",
        "get_missing_num(arr)"
      ],
      "execution_count": null,
      "outputs": [
        {
          "output_type": "execute_result",
          "data": {
            "text/plain": [
              "100.0"
            ]
          },
          "metadata": {},
          "execution_count": 10
        }
      ]
    },
    {
      "cell_type": "code",
      "metadata": {
        "colab": {
          "base_uri": "https://localhost:8080/"
        },
        "id": "O9stMTZYa1-G",
        "outputId": "db2e9dbc-977a-4f61-c0de-96a1040a0be8"
      },
      "source": [
        "\"\"\"2. How do you find the duplicate number on a given integer array?\"\"\"\n",
        "arr = [1,2,2,3,4] # needs to be sorted, maybe set would be better\n",
        "\n",
        "def get_duplicate(arr: list) -> int:\n",
        "  for i in range(len(arr) - 1):\n",
        "    if arr[i] == arr[i+1]:\n",
        "      return arr[i]\n",
        "    else:\n",
        "      return -1\n",
        "\n",
        "get_duplicate(arr)"
      ],
      "execution_count": null,
      "outputs": [
        {
          "output_type": "execute_result",
          "data": {
            "text/plain": [
              "-1"
            ]
          },
          "metadata": {},
          "execution_count": 18
        }
      ]
    },
    {
      "cell_type": "code",
      "metadata": {
        "colab": {
          "base_uri": "https://localhost:8080/"
        },
        "id": "AqKTLSSMxxFm",
        "outputId": "fa5f32b1-75c8-433e-a60c-10e8c057febc"
      },
      "source": [
        "\"\"\"How do you find the largest and smallest number in an unsorted integer array?\"\"\"\n",
        "\n",
        "arr = [5,3,7,10,2,4]\n",
        "\n",
        "def get_min_max(arr: list) -> tuple:\n",
        "  min = arr[0]\n",
        "  max = arr[0]\n",
        "  for num in arr:\n",
        "    if num < min:\n",
        "      min = num\n",
        "    elif num > max:\n",
        "      max = num\n",
        "  return (min, max)\n",
        "\n",
        "\n",
        "get_min_max(arr)"
      ],
      "execution_count": null,
      "outputs": [
        {
          "output_type": "execute_result",
          "data": {
            "text/plain": [
              "(2, 10)"
            ]
          },
          "metadata": {},
          "execution_count": 19
        }
      ]
    },
    {
      "cell_type": "code",
      "metadata": {
        "id": "Bqph2Pd7ylCt"
      },
      "source": [
        "\"\"\"How do you find all pairs of an integer array whose sum is equal to a given number?\"\"\""
      ],
      "execution_count": null,
      "outputs": []
    },
    {
      "cell_type": "code",
      "metadata": {
        "colab": {
          "base_uri": "https://localhost:8080/"
        },
        "id": "9jzG2Aj-ymUb",
        "outputId": "46c6fabb-9efd-4398-ba4c-558d72a1bd78"
      },
      "source": [
        "\"\"\"How do you find duplicate numbers in an array if it contains multiple duplicates?\"\"\"\n",
        "\n",
        "arr = [1,2,2,3,4,3,2,10]\n",
        "\n",
        "def get_multiple_duplicates(arr: list) -> list:\n",
        "  duplicates = []\n",
        "  temp_set = set()\n",
        "  for num in arr:\n",
        "    if num in temp_set:\n",
        "      duplicates.append(num)\n",
        "    temp_set.add(num)\n",
        "  return duplicates\n",
        "\n",
        "get_multiple_duplicates(arr)"
      ],
      "execution_count": null,
      "outputs": [
        {
          "output_type": "execute_result",
          "data": {
            "text/plain": [
              "[2, 3, 2]"
            ]
          },
          "metadata": {},
          "execution_count": 24
        }
      ]
    },
    {
      "cell_type": "markdown",
      "metadata": {
        "id": "WB6-ikih4axQ"
      },
      "source": [
        "### Strings"
      ]
    },
    {
      "cell_type": "code",
      "metadata": {
        "colab": {
          "base_uri": "https://localhost:8080/"
        },
        "id": "XTI7FSZq4dJw",
        "outputId": "6182d24b-08b6-4112-97ad-1710eaa66573"
      },
      "source": [
        "\"\"\"19. How do you print duplicate characters from a string?\"\"\"\n",
        "string = \"apple\"\n",
        "\n",
        "def get_dup_chr(string: str) -> list:\n",
        "  count_dict = {}\n",
        "  for chr in string:\n",
        "    if chr in count_dict:\n",
        "      count_dict[chr] = count_dict[chr] + 1\n",
        "    else:\n",
        "      count_dict[chr] = 1\n",
        "  dups = [k for k,v in count_dict.items() if v > 1]\n",
        "  return dups\n",
        "\n",
        "get_dup_chr(string)\n",
        "\n",
        "######################\n",
        "from functools import reduce\n",
        "\n",
        "def reducer(sum_dict, count_dict):\n",
        "  for key in count_dict:\n",
        "    sum_dict[key] = sum_dict.get(key, 0) + count_dict.get(key, 0)\n",
        "  return sum_dict\n",
        "\n",
        "def get_dup_chr_func(string: str) -> list:\n",
        "  count = map(lambda chr: {chr: 1}, string)\n",
        "  count_sum = reduce(reducer, count)\n",
        "  return count_sum\n",
        "\n",
        "print(get_dup_chr_func(string))\n",
        "\n",
        "# ###############Example\n",
        "# def count(characters):\n",
        "#     freq = map(lambda chr: {chr: 1}, characters)\n",
        "#     return reduce(reducer, freq)\n",
        "    \n",
        "# def reducer(accumulator, iterator):\n",
        "#     for key in iterator: \n",
        "#       accumulator[key] = accumulator.get(key, 0) + iterator.get(key, 0) #use get for default value\n",
        "#       #accumulator[key] = accumulator[key] + iterator[key]\n",
        "#     return accumulator\n",
        "\n",
        "# print(count('testing yeah it works'))"
      ],
      "execution_count": null,
      "outputs": [
        {
          "output_type": "stream",
          "name": "stdout",
          "text": [
            "{'a': 1, 'p': 2, 'l': 1, 'e': 1}\n"
          ]
        }
      ]
    },
    {
      "cell_type": "code",
      "metadata": {
        "colab": {
          "base_uri": "https://localhost:8080/"
        },
        "id": "DbYQo72Zy4Vw",
        "outputId": "c94dd87e-a2ec-4c40-dc13-283243146f55"
      },
      "source": [
        "# 20. How do you check if two strings are anagrams of each other?\n",
        "\n",
        "string1 = \"cat\"\n",
        "string2 = \"act\"\n",
        "\n",
        "def is_anagram(string1: str, string2: str) -> bool:\n",
        "  if len(string1) != len(string2):\n",
        "    return False\n",
        "  else:\n",
        "    string1_sorted = sorted(string1)\n",
        "    string2_sorted = sorted(string2)\n",
        "    for i, chr in enumerate(string1_sorted):\n",
        "      if chr != string2_sorted[i]:\n",
        "        return False\n",
        "    return True\n",
        "\n",
        "is_anagram(string1, string2)"
      ],
      "execution_count": 15,
      "outputs": [
        {
          "output_type": "execute_result",
          "data": {
            "text/plain": [
              "True"
            ]
          },
          "metadata": {},
          "execution_count": 15
        }
      ]
    },
    {
      "cell_type": "code",
      "metadata": {
        "colab": {
          "base_uri": "https://localhost:8080/"
        },
        "id": "mbByqQ_5HtAG",
        "outputId": "efc27239-c17d-4c14-f469-757c6b6fc04d"
      },
      "source": [
        "#30. How do you check if a given string is a palindrome? (DTU)\n",
        "\n",
        "string = \"abcdcba\"\n",
        "\n",
        "def is_palindrome(string: str) -> bool:\n",
        "  string_reversed = string[::-1]\n",
        "  if string == string_reversed:\n",
        "    return True\n",
        "  else:\n",
        "    return False\n",
        "\n",
        "print(\"Check palindrome: \", is_palindrome(string))\n",
        "\n",
        "# how would you detect a palinrome if it has one extra letter.\n",
        "# am I guaranteed to always have one extra letter? If yes:\n",
        "\n",
        "string2 = \"abcdcbad\"\n",
        "\n",
        "def remove_one_letter_palindrome(string: str) -> str:\n",
        "  for i, _ in enumerate(string):\n",
        "    new_string = string[:i] + string[i+1:]\n",
        "    if is_palindrome(new_string):\n",
        "      return new_string\n",
        "\n",
        "print(remove_one_letter_palindrome(string2))"
      ],
      "execution_count": 11,
      "outputs": [
        {
          "output_type": "stream",
          "name": "stdout",
          "text": [
            "Check palindrome:  True\n",
            "abcdcba\n"
          ]
        }
      ]
    },
    {
      "cell_type": "code",
      "metadata": {
        "id": "Oipya6lFt9kP"
      },
      "source": [
        ""
      ],
      "execution_count": null,
      "outputs": []
    }
  ]
}